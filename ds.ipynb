{
 "cells": [
  {
   "cell_type": "code",
   "execution_count": 1,
   "metadata": {},
   "outputs": [],
   "source": [
    "#ANSWER NO. 1\n",
    "# RAINBOW"
   ]
  },
  {
   "cell_type": "code",
   "execution_count": 2,
   "metadata": {},
   "outputs": [
    {
     "name": "stdout",
     "output_type": "stream",
     "text": [
      "LETS UPGRADE\n"
     ]
    }
   ],
   "source": [
    "#Answer No. 2\n",
    "print('LETS UPGRADE')"
   ]
  },
  {
   "cell_type": "code",
   "execution_count": 4,
   "metadata": {},
   "outputs": [
    {
     "name": "stdout",
     "output_type": "stream",
     "text": [
      " Please Enter the Cost Price of the product: 1500\n",
      " Please Enter the Sale Price of the product: 850\n",
      "Loss\n"
     ]
    }
   ],
   "source": [
    "# Answer No. 3\n",
    "CP = float(input(\" Please Enter the Cost Price of the product: \"))\n",
    "\n",
    "SP = float(input(\" Please Enter the Sale Price of the product: \"))\n",
    "\n",
    "if(CP > SP):\n",
    "\n",
    "   amount = CP - SP\n",
    "\n",
    "   print(\"Loss\")\n",
    "\n",
    "elif(SP > CP):\n",
    "\n",
    "   amount = SP - CP\n",
    "\n",
    "   print(\"Profit \")\n",
    "\n",
    "else:\n",
    "\n",
    "   print(\"Neither\")"
   ]
  },
  {
   "cell_type": "code",
   "execution_count": 7,
   "metadata": {},
   "outputs": [
    {
     "name": "stdout",
     "output_type": "stream",
     "text": [
      "Price in euro is 2.5\n",
      "RS =200.0\n"
     ]
    }
   ],
   "source": [
    "#Answer No. 4\n",
    "EUR = float(input('Price in euro is '))\n",
    "# 1 EURO = 80 RS\n",
    "Rs=EUR*80;\n",
    "print('RS ={0}'.format(Rs))"
   ]
  },
  {
   "cell_type": "code",
   "execution_count": null,
   "metadata": {},
   "outputs": [],
   "source": [
    "# THANK YOU"
   ]
  }
 ],
 "metadata": {
  "kernelspec": {
   "display_name": "Python 3",
   "language": "python",
   "name": "python3"
  },
  "language_info": {
   "codemirror_mode": {
    "name": "ipython",
    "version": 3
   },
   "file_extension": ".py",
   "mimetype": "text/x-python",
   "name": "python",
   "nbconvert_exporter": "python",
   "pygments_lexer": "ipython3",
   "version": "3.8.3"
  }
 },
 "nbformat": 4,
 "nbformat_minor": 4
}
